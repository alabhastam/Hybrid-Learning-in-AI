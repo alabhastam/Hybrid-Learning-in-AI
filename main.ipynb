{
 "cells": [
  {
   "cell_type": "code",
   "execution_count": 1,
   "id": "78eef9bd",
   "metadata": {
    "_cell_guid": "b1076dfc-b9ad-4769-8c92-a6c4dae69d19",
    "_uuid": "8f2839f25d086af736a60e9eeb907d3b93b6e0e5",
    "execution": {
     "iopub.execute_input": "2025-09-15T14:59:32.542647Z",
     "iopub.status.busy": "2025-09-15T14:59:32.542314Z",
     "iopub.status.idle": "2025-09-15T14:59:34.264159Z",
     "shell.execute_reply": "2025-09-15T14:59:34.263058Z"
    },
    "papermill": {
     "duration": 1.726895,
     "end_time": "2025-09-15T14:59:34.265758",
     "exception": false,
     "start_time": "2025-09-15T14:59:32.538863",
     "status": "completed"
    },
    "tags": []
   },
   "outputs": [
    {
     "name": "stdout",
     "output_type": "stream",
     "text": [
      "/kaggle/input/sms-spam-collection-dataset/spam.csv\n"
     ]
    }
   ],
   "source": [
    "# This Python 3 environment comes with many helpful analytics libraries installed\n",
    "# It is defined by the kaggle/python Docker image: https://github.com/kaggle/docker-python\n",
    "# For example, here's several helpful packages to load\n",
    "\n",
    "import numpy as np # linear algebra\n",
    "import pandas as pd # data processing, CSV file I/O (e.g. pd.read_csv)\n",
    "\n",
    "# Input data files are available in the read-only \"../input/\" directory\n",
    "# For example, running this (by clicking run or pressing Shift+Enter) will list all files under the input directory\n",
    "\n",
    "import os\n",
    "for dirname, _, filenames in os.walk('/kaggle/input'):\n",
    "    for filename in filenames:\n",
    "        print(os.path.join(dirname, filename))\n",
    "\n",
    "# You can write up to 20GB to the current directory (/kaggle/working/) that gets preserved as output when you create a version using \"Save & Run All\" \n",
    "# You can also write temporary files to /kaggle/temp/, but they won't be saved outside of the current session"
   ]
  },
  {
   "cell_type": "markdown",
   "id": "75c530fb",
   "metadata": {
    "papermill": {
     "duration": 0.00159,
     "end_time": "2025-09-15T14:59:34.269579",
     "exception": false,
     "start_time": "2025-09-15T14:59:34.267989",
     "status": "completed"
    },
    "tags": []
   },
   "source": [
    "<div style=\"background-color:#121212;color:#e0e0e0;font-family:Arial,Helvetica,sans-serif;padding:20px;line-height:1.6;\">\n",
    "  <h1 style=\"color:#ff9800;margin-bottom:10px;\">📚 Hybrid Learning in AI — SMS Spam Example</h1>\n",
    "\n",
    "  <p style=\"margin-bottom:15px;\">\n",
    "    <strong style=\"color:#4fc3f7;\">Hybrid Learning</strong> combines two or more approaches to build a stronger AI system.\n",
    "    It blends the strengths of different methods, making them work together — much like combining a calculator’s speed 🖩 with a human’s judgment 🧠.\n",
    "  </p>\n",
    "\n",
    "  <h2 style=\"color:#ffcc80;margin-top:20px;\">🔹 Why Use Hybrid Learning?</h2>\n",
    "  <ul style=\"margin-left:20px;margin-bottom:15px;\">\n",
    "    <li>Better accuracy through synergy of techniques.</li>\n",
    "    <li>Greater robustness against noisy or unexpected data.</li>\n",
    "    <li>Flexibility — choose the right tool for the right part of the task.</li>\n",
    "  </ul>\n",
    "\n",
    "  <h2 style=\"color:#ffcc80;margin-top:20px;\">🔹 Real-World Examples</h2>\n",
    "  <ul style=\"margin-left:20px;margin-bottom:15px;\">\n",
    "    <li>Bank fraud detection using Neural Networks + Rule-based checks.</li>\n",
    "    <li>Search engines combining Transformer NLP + TF-IDF ranking.</li>\n",
    "    <li>Medical imaging with CNN predictions + doctor-verified rules.</li>\n",
    "    <li>AI games blending supervised strategies + reinforcement learning.</li>\n",
    "    <li>Network security using anomaly detection + classification.</li>\n",
    "  </ul>\n",
    "\n",
    "  <h2 style=\"color:#ffcc80;margin-top:20px;\">📂 Our Tutorial Dataset — SMS Spam Collection</h2>\n",
    "  <p style=\"margin-bottom:15px;\">\n",
    "    This dataset (<strong style=\"color:#81d4fa;\">~500 KB</strong>) contains spam and ham (not spam) SMS messages.<br>\n",
    "    <strong>Why it’s perfect:</strong> Tiny size, cleans easily, trains fast, and the task is relatable.\n",
    "  </p>\n",
    "\n",
    "  <h2 style=\"color:#ffcc80;margin-top:20px;\">🛠 Hybrid Plan: TF-IDF Model + Keyword Rules</h2>\n",
    "  <ol style=\"margin-left:20px;margin-bottom:15px;\">\n",
    "    <li><strong style=\"color:#4fc3f7;\">ML Component</strong>\n",
    "      <ul>\n",
    "        <li>Convert SMS text to numerical vectors with TF-IDF.</li>\n",
    "        <li>Train a Logistic Regression or Naive Bayes classifier.</li>\n",
    "      </ul>\n",
    "    </li>\n",
    "    <li><strong style=\"color:#4fc3f7;\">Rule-based Component</strong>\n",
    "      <ul>\n",
    "        <li>Define a dictionary of common spam words (<em>\"free\", \"win\", \"click\", \"offer\"</em>).</li>\n",
    "        <li>If message contains enough triggers → predict spam directly.</li>\n",
    "      </ul>\n",
    "    </li>\n",
    "    <li><strong style=\"color:#4fc3f7;\">Hybrid Decision</strong>\n",
    "      <ul>\n",
    "        <li>If rules detect high spam risk → final label spam.</li>\n",
    "        <li>Else → trust ML model output.</li>\n",
    "      </ul>\n",
    "    </li>\n",
    "  </ol>\n",
    "\n",
    "  <h2 style=\"color:#ffcc80;margin-top:20px;\">📊 Tutorial Workflow</h2>\n",
    "  <ol style=\"margin-left:20px;margin-bottom:15px;\">\n",
    "    <li>Dataset exploration — visualize spam vs. ham counts.</li>\n",
    "    <li>Baseline ML Model — simple TF-IDF + Logistic Regression.</li>\n",
    "    <li>Design keyword rules — experiment with thresholds.</li>\n",
    "    <li>Combine outputs — weighted decision or rule priority.</li>\n",
    "    <li>Evaluate — compare hybrid vs. pure ML performance.</li>\n",
    "    <li>Conclusion — discuss where hybrid wins.</li>\n",
    "  </ol>\n",
    "\n",
    "  <h2 style=\"color:#ffcc80;margin-top:20px;\">💡 Why This Tutorial Works Well</h2>\n",
    "  <ul style=\"margin-left:20px;margin-bottom:15px;\">\n",
    "    <li>Lightweight — ideal for live demos and quick iteration.</li>\n",
    "    <li>Clear step-by-step introduction to hybrid concepts.</li>\n",
    "    <li>Real-world relevance — SMS spam filtering is everywhere.</li>\n",
    "  </ul>\n",
    "\n",
    "  <p style=\"margin-top:20px;font-style:italic;color:#b0bec5;\">\n",
    "    Tip: Treat Hybrid Learning like mixing coffee and milk ☕ + 🥛 — each can be good alone, but together, they create something smoother.\n",
    "  </p>\n",
    "</div>\n"
   ]
  },
  {
   "cell_type": "markdown",
   "id": "93da7f4b",
   "metadata": {
    "papermill": {
     "duration": 0.001277,
     "end_time": "2025-09-15T14:59:34.272435",
     "exception": false,
     "start_time": "2025-09-15T14:59:34.271158",
     "status": "completed"
    },
    "tags": []
   },
   "source": [
    "<div style=\"background-color:#121212;color:#e0e0e0;padding:20px;font-family:Arial,Helvetica,sans-serif;line-height:1.6;border-radius:8px;\">\n",
    "  <h2 style=\"color:#ff9800;margin-top:0;\">🔀 Different Ways to Do Hybrid Learning in AI</h2>\n",
    "\n",
    "  <p style=\"margin-bottom:15px;\">\n",
    "    Hybrid learning in AI means <strong style=\"color:#4fc3f7;\">combining two or more methods</strong> to solve a problem more effectively than using them in isolation.\n",
    "    Below are popular hybrid strategies:\n",
    "  </p>\n",
    "\n",
    "  <h3 style=\"color:#ffcc80;margin-top:15px;\">1️⃣ ML + Rule-Based Systems</h3>\n",
    "  <p>Combine a machine learning model with human‑crafted rules.  \n",
    "    <em style=\"color:#b0bec5;\">Example:</em> Spam filter using Naive Bayes + keyword blacklist.\n",
    "  </p>\n",
    "\n",
    "  <h3 style=\"color:#ffcc80;margin-top:15px;\">2️⃣ Supervised + Unsupervised Learning</h3>\n",
    "  <p>Unsupervised clustering or representation learning feeds features into a supervised classifier.  \n",
    "    <em style=\"color:#b0bec5;\">Example:</em> Customer segmentation via KMeans → segments used for targeted prediction.\n",
    "  </p>\n",
    "\n",
    "  <h3 style=\"color:#ffcc80;margin-top:15px;\">3️⃣ Classical ML + Deep Learning</h3>\n",
    "  <p>Use deep learning for feature extraction, then apply classical algorithms for prediction.  \n",
    "    <em style=\"color:#b0bec5;\">Example:</em> CNN image embeddings + Random Forest classifier.\n",
    "  </p>\n",
    "\n",
    "  <h3 style=\"color:#ffcc80;margin-top:15px;\">4️⃣ Reinforcement + Supervised Learning</h3>\n",
    "  <p>Train a model with supervised learning, then fine‑tune using reinforcement signals.  \n",
    "    <em style=\"color:#b0bec5;\">Example:</em> Game AI that learns from human replays before exploring new strategies.\n",
    "  </p>\n",
    "\n",
    "  <h3 style=\"color:#ffcc80;margin-top:15px;\">5️⃣ Multiple Supervised Models (Ensembles)</h3>\n",
    "  <p>Blend predictions from different supervised models to improve accuracy and robustness.  \n",
    "    <em style=\"color:#b0bec5;\">Example:</em> Random Forest + Gradient Boosting + Neural Network ensemble.\n",
    "  </p>\n",
    "\n",
    "  <p style=\"margin-top:20px;font-style:italic;color:#b0bec5;\">\n",
    "    Each hybrid method has trade-offs — the art is knowing which combination fits your data and problem best.\n",
    "  </p>\n",
    "</div>\n"
   ]
  }
 ],
 "metadata": {
  "kaggle": {
   "accelerator": "none",
   "dataSources": [
    {
     "datasetId": 483,
     "sourceId": 982,
     "sourceType": "datasetVersion"
    }
   ],
   "isGpuEnabled": false,
   "isInternetEnabled": true,
   "language": "python",
   "sourceType": "notebook"
  },
  "kernelspec": {
   "display_name": "Python 3",
   "language": "python",
   "name": "python3"
  },
  "language_info": {
   "codemirror_mode": {
    "name": "ipython",
    "version": 3
   },
   "file_extension": ".py",
   "mimetype": "text/x-python",
   "name": "python",
   "nbconvert_exporter": "python",
   "pygments_lexer": "ipython3",
   "version": "3.11.13"
  },
  "papermill": {
   "default_parameters": {},
   "duration": 7.448833,
   "end_time": "2025-09-15T14:59:34.793336",
   "environment_variables": {},
   "exception": null,
   "input_path": "__notebook__.ipynb",
   "output_path": "__notebook__.ipynb",
   "parameters": {},
   "start_time": "2025-09-15T14:59:27.344503",
   "version": "2.6.0"
  }
 },
 "nbformat": 4,
 "nbformat_minor": 5
}
