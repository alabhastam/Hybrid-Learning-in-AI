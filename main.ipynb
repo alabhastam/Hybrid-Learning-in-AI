{
 "cells": [
  {
   "cell_type": "code",
   "execution_count": 1,
   "id": "9045a53d",
   "metadata": {
    "_cell_guid": "b1076dfc-b9ad-4769-8c92-a6c4dae69d19",
    "_uuid": "8f2839f25d086af736a60e9eeb907d3b93b6e0e5",
    "execution": {
     "iopub.execute_input": "2025-09-15T14:56:41.346366Z",
     "iopub.status.busy": "2025-09-15T14:56:41.346031Z",
     "iopub.status.idle": "2025-09-15T14:56:43.508645Z",
     "shell.execute_reply": "2025-09-15T14:56:43.507341Z"
    },
    "papermill": {
     "duration": 2.168368,
     "end_time": "2025-09-15T14:56:43.511060",
     "exception": false,
     "start_time": "2025-09-15T14:56:41.342692",
     "status": "completed"
    },
    "tags": []
   },
   "outputs": [
    {
     "name": "stdout",
     "output_type": "stream",
     "text": [
      "/kaggle/input/sms-spam-collection-dataset/spam.csv\n"
     ]
    }
   ],
   "source": [
    "# This Python 3 environment comes with many helpful analytics libraries installed\n",
    "# It is defined by the kaggle/python Docker image: https://github.com/kaggle/docker-python\n",
    "# For example, here's several helpful packages to load\n",
    "\n",
    "import numpy as np # linear algebra\n",
    "import pandas as pd # data processing, CSV file I/O (e.g. pd.read_csv)\n",
    "\n",
    "# Input data files are available in the read-only \"../input/\" directory\n",
    "# For example, running this (by clicking run or pressing Shift+Enter) will list all files under the input directory\n",
    "\n",
    "import os\n",
    "for dirname, _, filenames in os.walk('/kaggle/input'):\n",
    "    for filename in filenames:\n",
    "        print(os.path.join(dirname, filename))\n",
    "\n",
    "# You can write up to 20GB to the current directory (/kaggle/working/) that gets preserved as output when you create a version using \"Save & Run All\" \n",
    "# You can also write temporary files to /kaggle/temp/, but they won't be saved outside of the current session"
   ]
  },
  {
   "cell_type": "markdown",
   "id": "b653900a",
   "metadata": {
    "papermill": {
     "duration": 0.00168,
     "end_time": "2025-09-15T14:56:43.514955",
     "exception": false,
     "start_time": "2025-09-15T14:56:43.513275",
     "status": "completed"
    },
    "tags": []
   },
   "source": [
    "<div style=\"background-color:#121212;color:#e0e0e0;font-family:Arial,Helvetica,sans-serif;padding:20px;line-height:1.6;\">\n",
    "  <h1 style=\"color:#ff9800;margin-bottom:10px;\">📚 Hybrid Learning in AI — SMS Spam Example</h1>\n",
    "\n",
    "  <p style=\"margin-bottom:15px;\">\n",
    "    <strong style=\"color:#4fc3f7;\">Hybrid Learning</strong> combines two or more approaches to build a stronger AI system.\n",
    "    It blends the strengths of different methods, making them work together — much like combining a calculator’s speed 🖩 with a human’s judgment 🧠.\n",
    "  </p>\n",
    "\n",
    "  <h2 style=\"color:#ffcc80;margin-top:20px;\">🔹 Why Use Hybrid Learning?</h2>\n",
    "  <ul style=\"margin-left:20px;margin-bottom:15px;\">\n",
    "    <li>Better accuracy through synergy of techniques.</li>\n",
    "    <li>Greater robustness against noisy or unexpected data.</li>\n",
    "    <li>Flexibility — choose the right tool for the right part of the task.</li>\n",
    "  </ul>\n",
    "\n",
    "  <h2 style=\"color:#ffcc80;margin-top:20px;\">🔹 Real-World Examples</h2>\n",
    "  <ul style=\"margin-left:20px;margin-bottom:15px;\">\n",
    "    <li>Bank fraud detection using Neural Networks + Rule-based checks.</li>\n",
    "    <li>Search engines combining Transformer NLP + TF-IDF ranking.</li>\n",
    "    <li>Medical imaging with CNN predictions + doctor-verified rules.</li>\n",
    "    <li>AI games blending supervised strategies + reinforcement learning.</li>\n",
    "    <li>Network security using anomaly detection + classification.</li>\n",
    "  </ul>\n",
    "\n",
    "  <h2 style=\"color:#ffcc80;margin-top:20px;\">📂 Our Tutorial Dataset — SMS Spam Collection</h2>\n",
    "  <p style=\"margin-bottom:15px;\">\n",
    "    This dataset (<strong style=\"color:#81d4fa;\">~500 KB</strong>) contains spam and ham (not spam) SMS messages.<br>\n",
    "    <strong>Why it’s perfect:</strong> Tiny size, cleans easily, trains fast, and the task is relatable.\n",
    "  </p>\n",
    "\n",
    "  <h2 style=\"color:#ffcc80;margin-top:20px;\">🛠 Hybrid Plan: TF-IDF Model + Keyword Rules</h2>\n",
    "  <ol style=\"margin-left:20px;margin-bottom:15px;\">\n",
    "    <li><strong style=\"color:#4fc3f7;\">ML Component</strong>\n",
    "      <ul>\n",
    "        <li>Convert SMS text to numerical vectors with TF-IDF.</li>\n",
    "        <li>Train a Logistic Regression or Naive Bayes classifier.</li>\n",
    "      </ul>\n",
    "    </li>\n",
    "    <li><strong style=\"color:#4fc3f7;\">Rule-based Component</strong>\n",
    "      <ul>\n",
    "        <li>Define a dictionary of common spam words (<em>\"free\", \"win\", \"click\", \"offer\"</em>).</li>\n",
    "        <li>If message contains enough triggers → predict spam directly.</li>\n",
    "      </ul>\n",
    "    </li>\n",
    "    <li><strong style=\"color:#4fc3f7;\">Hybrid Decision</strong>\n",
    "      <ul>\n",
    "        <li>If rules detect high spam risk → final label spam.</li>\n",
    "        <li>Else → trust ML model output.</li>\n",
    "      </ul>\n",
    "    </li>\n",
    "  </ol>\n",
    "\n",
    "  <h2 style=\"color:#ffcc80;margin-top:20px;\">📊 Tutorial Workflow</h2>\n",
    "  <ol style=\"margin-left:20px;margin-bottom:15px;\">\n",
    "    <li>Dataset exploration — visualize spam vs. ham counts.</li>\n",
    "    <li>Baseline ML Model — simple TF-IDF + Logistic Regression.</li>\n",
    "    <li>Design keyword rules — experiment with thresholds.</li>\n",
    "    <li>Combine outputs — weighted decision or rule priority.</li>\n",
    "    <li>Evaluate — compare hybrid vs. pure ML performance.</li>\n",
    "    <li>Conclusion — discuss where hybrid wins.</li>\n",
    "  </ol>\n",
    "\n",
    "  <h2 style=\"color:#ffcc80;margin-top:20px;\">💡 Why This Tutorial Works Well</h2>\n",
    "  <ul style=\"margin-left:20px;margin-bottom:15px;\">\n",
    "    <li>Lightweight — ideal for live demos and quick iteration.</li>\n",
    "    <li>Clear step-by-step introduction to hybrid concepts.</li>\n",
    "    <li>Real-world relevance — SMS spam filtering is everywhere.</li>\n",
    "  </ul>\n",
    "\n",
    "  <p style=\"margin-top:20px;font-style:italic;color:#b0bec5;\">\n",
    "    Tip: Treat Hybrid Learning like mixing coffee and milk ☕ + 🥛 — each can be good alone, but together, they create something smoother.\n",
    "  </p>\n",
    "</div>\n"
   ]
  }
 ],
 "metadata": {
  "kaggle": {
   "accelerator": "none",
   "dataSources": [
    {
     "datasetId": 483,
     "sourceId": 982,
     "sourceType": "datasetVersion"
    }
   ],
   "isGpuEnabled": false,
   "isInternetEnabled": true,
   "language": "python",
   "sourceType": "notebook"
  },
  "kernelspec": {
   "display_name": "Python 3",
   "language": "python",
   "name": "python3"
  },
  "language_info": {
   "codemirror_mode": {
    "name": "ipython",
    "version": 3
   },
   "file_extension": ".py",
   "mimetype": "text/x-python",
   "name": "python",
   "nbconvert_exporter": "python",
   "pygments_lexer": "ipython3",
   "version": "3.11.13"
  },
  "papermill": {
   "default_parameters": {},
   "duration": 9.08368,
   "end_time": "2025-09-15T14:56:44.138056",
   "environment_variables": {},
   "exception": null,
   "input_path": "__notebook__.ipynb",
   "output_path": "__notebook__.ipynb",
   "parameters": {},
   "start_time": "2025-09-15T14:56:35.054376",
   "version": "2.6.0"
  }
 },
 "nbformat": 4,
 "nbformat_minor": 5
}
